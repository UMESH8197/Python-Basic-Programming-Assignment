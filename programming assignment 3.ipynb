{
 "cells": [
  {
   "cell_type": "code",
   "execution_count": null,
   "id": "d20a4655",
   "metadata": {},
   "outputs": [],
   "source": [
    "1. Write a Python Program to Check if a Number is Positive, Negative or Zero?  \n",
    "2. Write a Python Program to Check if a Number is Odd or Even?\n",
    "3. Write a Python Program to Check Leap Year?\n",
    "4. Write a Python Program to Check Prime Number?\n",
    "5. Write a Python Program to Print all Prime Numbers in an Interval of 1-10000?"
   ]
  },
  {
   "cell_type": "code",
   "execution_count": 3,
   "id": "0a0d0832",
   "metadata": {},
   "outputs": [
    {
     "name": "stdout",
     "output_type": "stream",
     "text": [
      "Enter a number: -1\n",
      "Negative number\n"
     ]
    }
   ],
   "source": [
    "# 1. Write a Python Program to Check if a Number is Positive, Negative or Zero?\n",
    "a = int(input(\"Enter a number: \"))\n",
    "if a > 0:\n",
    "    print(\"Positive number\")\n",
    "elif a == 0:\n",
    "    print(\"Zero number\")\n",
    "else:\n",
    "    print(\"Negative number\")\n"
   ]
  },
  {
   "cell_type": "code",
   "execution_count": 9,
   "id": "2212567a",
   "metadata": {},
   "outputs": [
    {
     "name": "stdout",
     "output_type": "stream",
     "text": [
      "Enter a number: 7\n",
      "7 is Odd number\n"
     ]
    }
   ],
   "source": [
    "# 2. Write a Python Program to Check if a Number is Odd or Even?\n",
    "\n",
    "a = int(input(\"Enter a number: \"))\n",
    "if (a % 2) == 0:\n",
    "    print(a,'is even number')\n",
    "else:\n",
    "    print(a,\"is Odd number\")\n",
    "\n"
   ]
  },
  {
   "cell_type": "code",
   "execution_count": 12,
   "id": "2b53c5be",
   "metadata": {},
   "outputs": [
    {
     "name": "stdout",
     "output_type": "stream",
     "text": [
      "Enter Year: 2020\n",
      "2020 is a Leap Year\n"
     ]
    }
   ],
   "source": [
    "# 3. Write a Python Program to Check Leap Year?\n",
    "year = int(input(\"Enter Year: \"))\n",
    "if year % 4 == 0 and year % 100 != 0:\n",
    "    print(year, \"is a Leap Year\")\n",
    "elif year % 100 == 0:\n",
    "    print(year, \"is not a Leap Year\")\n",
    "elif year % 400 ==0:\n",
    "    print(year, \"is a Leap Year\")\n",
    "else:\n",
    "    print(year, \"is not a Leap Year\")"
   ]
  },
  {
   "cell_type": "code",
   "execution_count": 22,
   "id": "73b487b0",
   "metadata": {},
   "outputs": [
    {
     "name": "stdout",
     "output_type": "stream",
     "text": [
      "Enter a number: 3\n",
      "3 is a prime number\n"
     ]
    }
   ],
   "source": [
    "# 4. Write a Python Program to Check Prime Number?\n",
    "\n",
    "num = int(input(\"Enter a number: \"))\n",
    "if num > 1:\n",
    "    for i in range(2, num):\n",
    "        if (num % i) == 0:\n",
    "            print(num, \"is not prime number\")\n",
    "            break\n",
    "    else:\n",
    "        print(num, \"is a prime number\")"
   ]
  },
  {
   "cell_type": "code",
   "execution_count": 31,
   "id": "6fd2e9c5",
   "metadata": {},
   "outputs": [
    {
     "name": "stdout",
     "output_type": "stream",
     "text": [
      "2 is a prime number\n",
      "3 is a prime number\n",
      "5 is a prime number\n",
      "7 is a prime number\n",
      "11 is a prime number\n",
      "13 is a prime number\n",
      "17 is a prime number\n",
      "19 is a prime number\n",
      "23 is a prime number\n",
      "29 is a prime number\n",
      "31 is a prime number\n",
      "37 is a prime number\n",
      "41 is a prime number\n",
      "43 is a prime number\n",
      "47 is a prime number\n",
      "53 is a prime number\n",
      "59 is a prime number\n",
      "61 is a prime number\n",
      "67 is a prime number\n",
      "71 is a prime number\n",
      "73 is a prime number\n",
      "79 is a prime number\n",
      "83 is a prime number\n",
      "89 is a prime number\n",
      "97 is a prime number\n"
     ]
    }
   ],
   "source": [
    "# 5. Write a Python Program to Print all Prime Numbers in an Interval of 1-10000?\n",
    "for num in range(1,100):\n",
    "    if num > 1:\n",
    "        for i in range(2, num):\n",
    "            if (num % i) == 0:\n",
    "                break\n",
    "        else:\n",
    "            print(num, \"is a prime number\")"
   ]
  },
  {
   "cell_type": "code",
   "execution_count": null,
   "id": "f45a5b31",
   "metadata": {},
   "outputs": [],
   "source": []
  },
  {
   "cell_type": "code",
   "execution_count": 6,
   "id": "87a1748e",
   "metadata": {},
   "outputs": [
    {
     "name": "stdout",
     "output_type": "stream",
     "text": [
      "enter the number :-3\n",
      "This is negative number\n"
     ]
    }
   ],
   "source": [
    "# 1. Write a Python Program to Check if a Number is Positive, Negative or Zero?\n",
    "a = int(input('enter the number :'))\n",
    "if a > 0 :\n",
    "    print('this is positive number')\n",
    "elif a == 0 :\n",
    "    print('This is zero  number')\n",
    "else:\n",
    "    print('This is negative number')"
   ]
  },
  {
   "cell_type": "code",
   "execution_count": 12,
   "id": "723b3fc2",
   "metadata": {},
   "outputs": [
    {
     "name": "stdout",
     "output_type": "stream",
     "text": [
      "enter the number :7\n",
      "this is odd number\n"
     ]
    }
   ],
   "source": [
    "# 2. Write a Python Program to Check if a Number is Odd or Even?\n",
    "a = int(input('enter the number :'))\n",
    "if (a % 2) == 0 :\n",
    "    print('this is even number')\n",
    "else :\n",
    "    print('this is odd number')"
   ]
  },
  {
   "cell_type": "code",
   "execution_count": 18,
   "id": "35288891",
   "metadata": {},
   "outputs": [
    {
     "name": "stdout",
     "output_type": "stream",
     "text": [
      "enter the year : 1997\n",
      "1997 is not leap year\n"
     ]
    }
   ],
   "source": [
    "# 3. Write a Python Program to Check Leap Year?\n",
    "year = int(input('enter the year : '))\n",
    "if year % 4 == 0 and year % 100 != 0 :\n",
    "    print(year, 'is leap year')\n",
    "elif year % 100 :\n",
    "    print(year, 'is not leap year')\n",
    "elif year % 400 == 0 :\n",
    "    print(year, 'is leap year')\n",
    "else :\n",
    "    print(year,'is not leap year')"
   ]
  },
  {
   "cell_type": "code",
   "execution_count": 24,
   "id": "2041ea2f",
   "metadata": {},
   "outputs": [
    {
     "name": "stdout",
     "output_type": "stream",
     "text": [
      "enter the number : 4\n",
      "4 is not prime number\n"
     ]
    }
   ],
   "source": [
    "# 4. Write a Python Program to Check Prime Number?\n",
    "a = int(input('enter the number : '))\n",
    "if a > 1 :\n",
    "    for i in range (2,a):\n",
    "        if (a%i) == 0 :\n",
    "            print(a, 'is not prime number')\n",
    "            break\n",
    "        else :\n",
    "            print(a,'is  prime number')"
   ]
  },
  {
   "cell_type": "code",
   "execution_count": 42,
   "id": "594158a0",
   "metadata": {},
   "outputs": [
    {
     "name": "stdout",
     "output_type": "stream",
     "text": [
      "2 is prime number\n",
      "3 is prime number\n",
      "5 is prime number\n",
      "7 is prime number\n",
      "11 is prime number\n",
      "13 is prime number\n",
      "17 is prime number\n",
      "19 is prime number\n",
      "23 is prime number\n",
      "29 is prime number\n",
      "31 is prime number\n",
      "37 is prime number\n",
      "41 is prime number\n",
      "43 is prime number\n",
      "47 is prime number\n",
      "53 is prime number\n",
      "59 is prime number\n",
      "61 is prime number\n",
      "67 is prime number\n",
      "71 is prime number\n",
      "73 is prime number\n",
      "79 is prime number\n",
      "83 is prime number\n",
      "89 is prime number\n",
      "97 is prime number\n"
     ]
    }
   ],
   "source": [
    "# 5. Write a Python Program to Print all Prime Numbers in an Interval of 1-10000?\n",
    "for i in range(1,100):\n",
    "    if i > 1 :\n",
    "        for j in range(2,i):\n",
    "            if (i % j) == 0 :\n",
    "                break\n",
    "        else:\n",
    "            print(i,'is prime number')\n",
    "                "
   ]
  },
  {
   "cell_type": "code",
   "execution_count": null,
   "id": "d6c12ce9",
   "metadata": {},
   "outputs": [],
   "source": []
  }
 ],
 "metadata": {
  "kernelspec": {
   "display_name": "Python 3 (ipykernel)",
   "language": "python",
   "name": "python3"
  },
  "language_info": {
   "codemirror_mode": {
    "name": "ipython",
    "version": 3
   },
   "file_extension": ".py",
   "mimetype": "text/x-python",
   "name": "python",
   "nbconvert_exporter": "python",
   "pygments_lexer": "ipython3",
   "version": "3.9.7"
  }
 },
 "nbformat": 4,
 "nbformat_minor": 5
}
