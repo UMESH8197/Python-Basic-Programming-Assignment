{
 "cells": [
  {
   "cell_type": "code",
   "execution_count": null,
   "id": "2b9c26d0",
   "metadata": {},
   "outputs": [],
   "source": [
    "1. Write a Python Program to Find the Factorial of a Number?\n",
    "2. Write a Python Program to Display the multiplication Table?\n",
    "3. Write a Python Program to Print the Fibonacci sequence?\n",
    "4. Write a Python Program to Check Armstrong Number?\n",
    "5. Write a Python Program to Find Armstrong Number in an Interval?\n",
    "6. Write a Python Program to Find the Sum of Natural Numbers?"
   ]
  },
  {
   "cell_type": "code",
   "execution_count": null,
   "id": "6be4c6ec",
   "metadata": {},
   "outputs": [],
   "source": [
    "# 1. Write a Python Program to Find the Factorial of a Number?\n",
    "n = int(input(\"Enter a number: \"))    \n",
    "fac = 1    \n",
    "if n < 0:\n",
    "    print(\" Factorial number not exist in negative number\")    \n",
    "elif n == 0:    \n",
    "    print(\"The factorial of 0 is 1\")    \n",
    "else:    \n",
    "    for i in range(1,n + 1):    \n",
    "        fac = fac*i    \n",
    "    print(\"The factorial of\",n,\"is\",fac)    \n"
   ]
  },
  {
   "cell_type": "code",
   "execution_count": null,
   "id": "ffd2cbf1",
   "metadata": {},
   "outputs": [],
   "source": [
    "# 2. Write a Python Program to Display the multiplication Table?\n",
    "num = 5\n",
    "for i in range(1, 11):      \n",
    "   print (num, 'x', i, '=', num * i)    "
   ]
  },
  {
   "cell_type": "code",
   "execution_count": null,
   "id": "1cfd967f",
   "metadata": {},
   "outputs": [],
   "source": [
    "# 3. Write a Python Program to Print the Fibonacci sequence? \n",
    "m = 0  \n",
    "n = 1  \n",
    "count = 0 \n",
    "num = int(input (\"The fibonacci sequence of the number is : \"))  \n",
    "while count < num:\n",
    "    print(n)  \n",
    "    j = m + n # = j =1\n",
    "    m = n  \n",
    "    n = j \n",
    "    count += 1  \n"
   ]
  },
  {
   "cell_type": "code",
   "execution_count": 5,
   "id": "365da4dd",
   "metadata": {},
   "outputs": [
    {
     "name": "stdout",
     "output_type": "stream",
     "text": [
      "Enter a number: 153\n",
      "153 is an Armstrong number\n"
     ]
    }
   ],
   "source": [
    "# 4. Write a Python Program to Check Armstrong Number?\n",
    "\n",
    "n = int(input(\"Enter a number: \"))\n",
    "s = 0\n",
    "t = n\n",
    "while t > 0:\n",
    "    digit = t % 10 # digit = 15.3\n",
    "    s += digit ** 3\n",
    "    t //= 10\n",
    "if n == s:\n",
    "    print(n,\"is an Armstrong number\")\n",
    "else:\n",
    "    print(n,\"is not an Armstrong number\")\n"
   ]
  },
  {
   "cell_type": "code",
   "execution_count": 6,
   "id": "605abfaa",
   "metadata": {},
   "outputs": [
    {
     "name": "stdout",
     "output_type": "stream",
     "text": [
      "153\n",
      "370\n",
      "371\n",
      "407\n",
      "1634\n",
      "8208\n",
      "9474\n"
     ]
    }
   ],
   "source": [
    "# 5. Write a Python Program to Find Armstrong Number in an Interval?\n",
    "a = 10000\n",
    "for i in range(100, a + 1):\n",
    "    order = len(str(i))\n",
    "    sum = 0\n",
    "    t = i\n",
    "    while t > 0:\n",
    "        digit = t% 10\n",
    "        sum += digit ** order\n",
    "        t //= 10\n",
    " \n",
    "    if i == sum:\n",
    "        print(i)\n"
   ]
  },
  {
   "cell_type": "code",
   "execution_count": 8,
   "id": "fd1ac04d",
   "metadata": {},
   "outputs": [
    {
     "name": "stdout",
     "output_type": "stream",
     "text": [
      "Enter a number: 10\n",
      "The sum of first n natural numbers is 55\n"
     ]
    }
   ],
   "source": [
    "# 6. Write a Python Program to Find the Sum of Natural Numbers?\n",
    "n=int(input(\"Enter a number: \"))\n",
    "sum1 = 0\n",
    "while n > 0:\n",
    "    sum1 = sum1 + n\n",
    "    n = n - 1\n",
    "print(\"The sum of first n natural numbers is\",sum1)"
   ]
  },
  {
   "cell_type": "code",
   "execution_count": null,
   "id": "89a8ad14",
   "metadata": {},
   "outputs": [],
   "source": []
  },
  {
   "cell_type": "code",
   "execution_count": null,
   "id": "83fe8116",
   "metadata": {},
   "outputs": [],
   "source": [
    "n = int(input('enter the number :'))\n",
    "fac = 1\n",
    "if n < 0 :\n",
    "    print('factorial number is not available in negative number')\n",
    "elif n == 0 :\n",
    "    print('In factorial 0 is 1')\n",
    "else:\n",
    "    for i in range(1, n + 1):\n",
    "        fac = fac * i\n",
    "    print('factorial of',n,'is',fac)"
   ]
  },
  {
   "cell_type": "code",
   "execution_count": null,
   "id": "6b04e53d",
   "metadata": {},
   "outputs": [],
   "source": [
    "  "
   ]
  },
  {
   "cell_type": "code",
   "execution_count": null,
   "id": "b55f422d",
   "metadata": {},
   "outputs": [],
   "source": [
    "# 2. Write a Python Program to Display the multiplication Table?\n",
    "a = 5\n",
    "for i in range(1,11):\n",
    "    print(a ,'x', i, '=', i * a )"
   ]
  },
  {
   "cell_type": "code",
   "execution_count": 1,
   "id": "9b3a5093",
   "metadata": {},
   "outputs": [
    {
     "name": "stdout",
     "output_type": "stream",
     "text": [
      "enter the number5\n",
      "1\n",
      "1\n",
      "2\n",
      "3\n",
      "5\n"
     ]
    }
   ],
   "source": [
    "# 3. Write a Python Program to Print the Fibonacci sequence? \n",
    "m = 0\n",
    "n = 1\n",
    "count = 0\n",
    "a = int(input('enter the number'))\n",
    "while count < a:\n",
    "    print(n)\n",
    "    j = m + n # j = 1,2,3,5,8\n",
    "    m = n # m = 1,1,2,3,5\n",
    "    n = j # n = 1,2,3,5,8\n",
    "    count += 1 # count = 1,2,3,4,5\n"
   ]
  },
  {
   "cell_type": "code",
   "execution_count": null,
   "id": "2bc30ac7",
   "metadata": {},
   "outputs": [],
   "source": [
    "# 4. Write a Python Program to Check Armstrong Number?\n"
   ]
  },
  {
   "cell_type": "code",
   "execution_count": 11,
   "id": "735491a6",
   "metadata": {},
   "outputs": [
    {
     "name": "stdout",
     "output_type": "stream",
     "text": [
      "enter the number5\n",
      "value of sum of natural number is 15\n"
     ]
    }
   ],
   "source": [
    "# 6. Write a Python Program to Find the Sum of Natural Numbers?\n",
    "a = int(input('enter the number'))\n",
    "sum = 0\n",
    "while a > 0:\n",
    "    sum = sum + a\n",
    "    a = a - 1\n",
    "print('value of sum of natural number is',sum)\n",
    "    "
   ]
  },
  {
   "cell_type": "code",
   "execution_count": null,
   "id": "8f6e5d3e",
   "metadata": {},
   "outputs": [],
   "source": []
  }
 ],
 "metadata": {
  "kernelspec": {
   "display_name": "Python 3 (ipykernel)",
   "language": "python",
   "name": "python3"
  },
  "language_info": {
   "codemirror_mode": {
    "name": "ipython",
    "version": 3
   },
   "file_extension": ".py",
   "mimetype": "text/x-python",
   "name": "python",
   "nbconvert_exporter": "python",
   "pygments_lexer": "ipython3",
   "version": "3.9.7"
  }
 },
 "nbformat": 4,
 "nbformat_minor": 5
}
