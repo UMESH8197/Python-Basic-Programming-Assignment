{
 "cells": [
  {
   "cell_type": "code",
   "execution_count": null,
   "id": "b162abf0",
   "metadata": {},
   "outputs": [],
   "source": [
    "1. Write a Python program to convert kilometers to miles?\n",
    "2. Write a Python program to convert Celsius to Fahrenheit?\n",
    "3. Write a Python program to display calendar?\n",
    "4. Write a Python program to solve quadratic equation?\n",
    "5. Write a Python program to swap two variables without temp variable?"
   ]
  },
  {
   "cell_type": "code",
   "execution_count": null,
   "id": "56ce5240",
   "metadata": {},
   "outputs": [],
   "source": [
    "# 1. Write a Python program to convert kilometers to miles?\n",
    "km = float(input(\"Enter value in kilometers: \"))\n",
    "conv_fac = 0.621371\n",
    "miles = km* conv_fac\n",
    "print('%0.2f kilometers is equal to %0.2f miles' %(km,miles))\n"
   ]
  },
  {
   "cell_type": "code",
   "execution_count": null,
   "id": "ca313504",
   "metadata": {},
   "outputs": [],
   "source": [
    "# 2. Write a Python program to convert Celsius to Fahrenheit?\n",
    "celsius = float(input('The celsius degree is '))\n",
    "fahrenheit = (celsius * 1.8) + 32\n",
    "print('%0.1f degree Celsius is equal to %0.1f degree Fahrenheit' %(celsius,fahrenheit))\n"
   ]
  },
  {
   "cell_type": "code",
   "execution_count": null,
   "id": "8e56ed32",
   "metadata": {},
   "outputs": [],
   "source": [
    "# 3. Write a Python program to display calendar?\n",
    "import calendar\n",
    "# print('calendar of year 2022 is')\n",
    "print(calendar.calendar(2021))"
   ]
  },
  {
   "cell_type": "code",
   "execution_count": null,
   "id": "282e49c3",
   "metadata": {},
   "outputs": [],
   "source": [
    "# 4. Write a Python program to solve quadratic equation?\n"
   ]
  },
  {
   "cell_type": "code",
   "execution_count": 2,
   "id": "31439f78",
   "metadata": {},
   "outputs": [
    {
     "name": "stdout",
     "output_type": "stream",
     "text": [
      "Enter the first value : 10\n",
      "Enter the second value : 20\n",
      "Below value before swapping : \n",
      "Value of a :  10  and b :  20\n",
      "Below value after swapping : \n",
      "Value of a :  20  and b :  10\n"
     ]
    }
   ],
   "source": [
    "# 5. Write a Python program to swap two variables without temp variable?\n",
    "\n",
    "a = int(input('Enter the first value : '))\n",
    "b = int(input('Enter the second value : '))\n",
    "\n",
    "print('Below value before swapping : ')\n",
    "\n",
    "print(\"Value of a : \", a, \" and b : \", b)\n",
    "\n",
    "a,b = b,a\n",
    "\n",
    "print('Below value after swapping : ')\n",
    "\n",
    "print(\"Value of a : \", a, \" and b : \", b)"
   ]
  },
  {
   "cell_type": "code",
   "execution_count": null,
   "id": "75e9f632",
   "metadata": {},
   "outputs": [],
   "source": []
  }
 ],
 "metadata": {
  "kernelspec": {
   "display_name": "Python 3 (ipykernel)",
   "language": "python",
   "name": "python3"
  },
  "language_info": {
   "codemirror_mode": {
    "name": "ipython",
    "version": 3
   },
   "file_extension": ".py",
   "mimetype": "text/x-python",
   "name": "python",
   "nbconvert_exporter": "python",
   "pygments_lexer": "ipython3",
   "version": "3.9.7"
  }
 },
 "nbformat": 4,
 "nbformat_minor": 5
}
